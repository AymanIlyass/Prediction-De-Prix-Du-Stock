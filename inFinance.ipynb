{
 "cells": [
  {
   "cell_type": "markdown",
   "id": "486fd5f5",
   "metadata": {},
   "source": [
    "- ### Import Librairies"
   ]
  },
  {
   "cell_type": "code",
   "execution_count": 1,
   "id": "30a3e320",
   "metadata": {},
   "outputs": [],
   "source": [
    "import numpy as np\n",
    "import matplotlib.pyplot as plt\n",
    "import pandas as pd\n",
    "import pandas_datareader as web\n",
    "import datetime as dt"
   ]
  },
  {
   "cell_type": "code",
   "execution_count": 2,
   "id": "66627b38",
   "metadata": {},
   "outputs": [],
   "source": [
    "from sklearn.preprocessing import MinMaxScaler"
   ]
  },
  {
   "cell_type": "code",
   "execution_count": null,
   "id": "7ebbd71c",
   "metadata": {},
   "outputs": [],
   "source": [
    "from tensorflow.keras.models import Sequential\n",
    "from tensorflow.keras.layers import Dense, Dropout, LSTM"
   ]
  },
  {
   "cell_type": "markdown",
   "id": "45417942",
   "metadata": {},
   "source": [
    "- ### Load Data"
   ]
  },
  {
   "cell_type": "code",
   "execution_count": null,
   "id": "d78a8b0d",
   "metadata": {},
   "outputs": [],
   "source": [
    "company = 'BTC-USD'\n",
    "\n",
    "start = dt.datetime(2010,1,1)\n",
    "end = dt.datetime(2020,1,1)\n",
    "\n",
    "data = web.DataReader(company, 'yahoo', start, end)"
   ]
  },
  {
   "cell_type": "markdown",
   "id": "9c99914f",
   "metadata": {},
   "source": [
    "- ### Prepare Data"
   ]
  },
  {
   "cell_type": "code",
   "execution_count": null,
   "id": "a81971d2",
   "metadata": {},
   "outputs": [],
   "source": [
    "scaler = MinMaxScaler(feature_range=(0,1))\n",
    "scaled_data = scaler.fit_transform(data['Close'].values.reshape(-1,1))\n",
    "\n",
    "prediction_days = 60\n",
    "\n",
    "x_train = []\n",
    "y_train = []\n",
    "\n",
    "for x in range(prediction_days, len(scaled_data)):\n",
    "    x_train.append(scaled_data[x-prediction_days:x, 0])\n",
    "    y_train.append(scaled_data[x, 0])\n",
    "\n",
    "x_train, y_train = np.array(x_train), np.array(y_train)\n",
    "x_train = np.reshape(x_train, (x_train.shape[0], x_train.shape[1], 1))"
   ]
  },
  {
   "cell_type": "markdown",
   "id": "957cf32b",
   "metadata": {},
   "source": [
    "- ### Build The Model"
   ]
  },
  {
   "cell_type": "code",
   "execution_count": null,
   "id": "30688fe3",
   "metadata": {},
   "outputs": [],
   "source": [
    "model = Sequential()\n",
    "\n",
    "model.add(LSTM(units=50, return_sequences=True, input_shape=(x_train.shape[1], 1)))\n",
    "model.add(Dropout(0.2))\n",
    "\n",
    "model.add(LSTM(units=50, return_sequences=True))\n",
    "model.add(Dropout(0.2))\n",
    "\n",
    "model.add(LSTM(units=50))\n",
    "model.add(Dropout(0.2))\n",
    "\n",
    "model.add(Dense(units=1)) # Prediction of the next closing value\n",
    "\n",
    "model.compile(optimizer='adam', loss='mean_squared_error')\n",
    "\n",
    "model.fit(x_train, y_train, epochs=25, batch_size=32)"
   ]
  },
  {
   "cell_type": "markdown",
   "id": "c6ca94bd",
   "metadata": {},
   "source": [
    "- ### Load Test Data"
   ]
  },
  {
   "cell_type": "code",
   "execution_count": null,
   "id": "b8f1dba2",
   "metadata": {},
   "outputs": [],
   "source": [
    "''' Test The Model Accuracy On An Existing Data '''\n",
    "\n",
    "test_start = dt.datetime(2020,1,1)\n",
    "test_end = dt.datetime.now()\n",
    "\n",
    "test_data = web.DataReader(company, 'yahoo', test_start, test_end)\n",
    "actual_prices = test_data['Close'].values\n",
    "\n",
    "total_dataset = pd.concat((data['Close'], test_data['Close']), axis=0)\n",
    "\n",
    "model_inputs = total_dataset[len(total_dataset) - len(test_data) - prediction_days:].values\n",
    "model_inputs = model_inputs.reshape(-1, 1)\n",
    "model_inputs = scaler.fit_transform(model_inputs)"
   ]
  },
  {
   "cell_type": "markdown",
   "id": "ebdf619e",
   "metadata": {},
   "source": [
    "- ### Make Predictions On Test Data"
   ]
  },
  {
   "cell_type": "code",
   "execution_count": null,
   "id": "f2b0a006",
   "metadata": {},
   "outputs": [],
   "source": [
    "x_test = []\n",
    "\n",
    "for x in range(prediction_days, len(model_inputs)):\n",
    "    x_test.append(model_inputs[x-prediction_days:x, 0])\n",
    "\n",
    "x_test = np.array(x_test)\n",
    "x_test = np.reshape(x_test, (x_test.shape[0], x_test.shape[1], 1))\n",
    "\n",
    "predicted_prices = model.predict(x_test)\n",
    "predicted_prices = scaler.inverse_transform(predicted_prices)"
   ]
  },
  {
   "cell_type": "markdown",
   "id": "cf314143",
   "metadata": {},
   "source": [
    "- ### Plot The Test Predictions"
   ]
  },
  {
   "cell_type": "code",
   "execution_count": null,
   "id": "51950476",
   "metadata": {},
   "outputs": [],
   "source": [
    "plt.plot(actual_prices, color='black', label=f\"Actual {company} Price\")\n",
    "plt.plot(predicted_prices, color='green', label=f\"Predicted {company} Price\")\n",
    "plt.title(f\"{company} Share Price\")\n",
    "plt.xlabel('Time')\n",
    "plt.ylabel(f\"{company} Share Price\")\n",
    "plt.legend()\n",
    "plt.show()"
   ]
  },
  {
   "cell_type": "markdown",
   "id": "5abf8ea4",
   "metadata": {},
   "source": [
    "- ### Predict Next Day"
   ]
  },
  {
   "cell_type": "code",
   "execution_count": null,
   "id": "c4c08928",
   "metadata": {},
   "outputs": [],
   "source": [
    "real_data = [model_inputs[len(model_inputs) + 1 - prediction_days:len(model_inputs+1), 0]]\n",
    "real_data = np.array(real_data)\n",
    "real_data = np.reshape(real_data, (real_data.shape[0], real_data.shape[1], 1))\n",
    "\n",
    "prediction = model.predict(real_data)\n",
    "prediction = scaler.inverse_transform(prediction)\n",
    "print(f\"Prediction: {prediction}\")"
   ]
  }
 ],
 "metadata": {
  "kernelspec": {
   "display_name": "Python 3 (ipykernel)",
   "language": "python",
   "name": "python3"
  },
  "language_info": {
   "codemirror_mode": {
    "name": "ipython",
    "version": 3
   },
   "file_extension": ".py",
   "mimetype": "text/x-python",
   "name": "python",
   "nbconvert_exporter": "python",
   "pygments_lexer": "ipython3",
   "version": "3.10.1"
  }
 },
 "nbformat": 4,
 "nbformat_minor": 5
}
